{
 "cells": [
  {
   "cell_type": "markdown",
   "metadata": {},
   "source": [
    "# <span style=\"color:#336699\">SER-347 - Trabalho final</span>\n",
    "<hr style=\"border:2px solid #0077b9;\">\n",
    "\n",
    "# <span style=\"color:#336699\">Detecção de alvos artificiais em ambientes marítimos por meio de imagens SAR</span>\n",
    "\n",
    "- Leonan Entringer Falqueto\n",
    "- Billy Edy Mendes"
   ]
  },
  {
   "cell_type": "markdown",
   "metadata": {},
   "source": [
    "## Objetivo: \n",
    "    \n",
    "   Pretende-se estruturar um programa, utilizando a linguagem python, para aplicar a técnica de _threshold_ e identificar objetos artificiais em ambiente marítimo."
   ]
  },
  {
   "cell_type": "markdown",
   "metadata": {},
   "source": [
    "## __Primeira fase__: abrir a imagem SAR.\n",
    "\n",
    "__Desafio__: identificar a codificação do arquivo (configurações e metadados) para abrir a imagem com Python.\n",
    "\n",
    "Foram utilizadas imagens _full polarimétricas_ do Satélite ALOS PALSAR já com um nível de processamento \n",
    "(Compressão de pulsos em _range_ e azimute, L-1.1) e a biblioteca GDAL para ler as bandas."
   ]
  },
  {
   "cell_type": "code",
   "execution_count": 1,
   "metadata": {
    "raw_mimetype": "text/x-python"
   },
   "outputs": [
    {
     "name": "stdout",
     "output_type": "stream",
     "text": [
      "Para esse programa, foram usadas as seguintes versões de bibliotecas, da Anaconda e do python: \n",
      " Gdal 2.2.2, Matplotlib 2.2.2, Numpy 1.14.2, Conda 4.5.4 e Python 3.6.5 \n",
      "\n",
      " Confira suas versões instaladas e seu ambiente de trabalho:\n",
      "Gdal 2.2.2\n",
      "Matplotlib 2.2.2\n",
      "Numpy 1.14.2\n",
      "conda 4.5.4\n"
     ]
    },
    {
     "name": "stderr",
     "output_type": "stream",
     "text": [
      "Python 3.6.5 :: Anaconda, Inc.\n"
     ]
    },
    {
     "name": "stdout",
     "output_type": "stream",
     "text": [
      "# conda environments:\n",
      "#\n",
      "base                     C:\\Users\\Falqueto\\Anaconda3\n",
      "geospatial            *  C:\\Users\\Falqueto\\Anaconda3\\envs\\geospatial\n",
      "ser347                   C:\\Users\\Falqueto\\Anaconda3\\envs\\ser347\n",
      "\n"
     ]
    }
   ],
   "source": [
    "# importar bibliotecas\n",
    "from osgeo import gdal\n",
    "import numpy as np\n",
    "import matplotlib\n",
    "from matplotlib import pyplot as plt\n",
    "import math \n",
    "import cmath as cm\n",
    "import datetime as dt\n",
    "import os\n",
    "import shutil\n",
    "import glob\n",
    "import sys\n",
    "\n",
    "# importar constantes\n",
    "from gdalconst import *\n",
    "\n",
    "# informar o uso de exceções\n",
    "gdal.UseExceptions()\n",
    "\n",
    "# mostrar versão instalada\n",
    "print (\"Para esse programa, foram usadas as seguintes versões de bibliotecas, da Anaconda e do python:\",\n",
    "       \"\\n\",\"Gdal 2.2.2, Matplotlib 2.2.2, Numpy 1.14.2, Conda 4.5.4 e Python 3.6.5\", \"\\n\\n\",\n",
    "      \"Confira suas versões instaladas e seu ambiente de trabalho:\")\n",
    "print (\"Gdal\", gdal.__version__)\n",
    "print (\"Matplotlib\", matplotlib.__version__)\n",
    "print (\"Numpy\", np.__version__)\n",
    "!conda --version\n",
    "!python --version\n",
    "!conda info --env"
   ]
  },
  {
   "cell_type": "markdown",
   "metadata": {},
   "source": [
    "Ler a imagem:"
   ]
  },
  {
   "cell_type": "code",
   "execution_count": 2,
   "metadata": {},
   "outputs": [
    {
     "name": "stdout",
     "output_type": "stream",
     "text": [
      "Arquivo aberto com sucesso\n"
     ]
    }
   ],
   "source": [
    "# Criar o dataset abrindo o arquivo para leitura\n",
    "# o 'r' antes do caminho serve para entender a string raw para não ter problemas com a \\ (caracter especial).\n",
    "\n",
    "filename = r\"C:\\SAR_data\\ALPSRP173876680-L1.1-Merluza\\ALPSRP173876680-L1.1\\VOL-ALPSRP173876680-P1.1__A\"\n",
    "\n",
    "# Utilizando o comando try-except da biblioteca sys, será executada a leitura do arquivo no modo Read Only para não afetar\n",
    "# a imagem original:\n",
    "\n",
    "try:\n",
    "    dataset = gdal.Open(filename, GA_ReadOnly)\n",
    "    print (\"Arquivo aberto com sucesso\")\n",
    "except:\n",
    "    print(\"Erro na abertura do arquivo\")\n",
    "\n",
    "dataset = gdal.Open(filename, GA_ReadOnly)\n",
    "if not dataset:\n",
    "    ..."
   ]
  },
  {
   "cell_type": "markdown",
   "metadata": {},
   "source": [
    "Obter os metadados:"
   ]
  },
  {
   "cell_type": "code",
   "execution_count": 3,
   "metadata": {},
   "outputs": [
    {
     "name": "stdout",
     "output_type": "stream",
     "text": [
      "Driver: JAXAPALSAR/JAXA PALSAR Product Reader (Level 1.1/1.5)\n",
      "Size is 1088 x 18432 x 4\n",
      "Projection is \n",
      "Origin = (0.0, 0.0)\n",
      "Resolution = (Range: 1.0, Azimuth: 1.0)\n"
     ]
    }
   ],
   "source": [
    "print(\"Driver: {}/{}\".format(dataset.GetDriver().ShortName,\n",
    "                             dataset.GetDriver().LongName))\n",
    "print(\"Size is {} x {} x {}\".format(dataset.RasterXSize,\n",
    "                                    dataset.RasterYSize,\n",
    "                                    dataset.RasterCount))\n",
    "print(\"Projection is {}\".format(dataset.GetProjection()))\n",
    "geotransform = dataset.GetGeoTransform()\n",
    "if geotransform:\n",
    "    print(\"Origin = ({}, {})\".format(geotransform[0], geotransform[3]))\n",
    "    print(\"Resolution = (Range: {}, Azimuth: {})\".format(geotransform[1], geotransform[5]))"
   ]
  },
  {
   "cell_type": "markdown",
   "metadata": {},
   "source": [
    "Ler as bandas:"
   ]
  },
  {
   "cell_type": "code",
   "execution_count": 4,
   "metadata": {},
   "outputs": [],
   "source": [
    "# Função para extrair alguns dados estatísticos da Banda:\n",
    "def Statistic_raster(banda):\n",
    "    st = banda.GetStatistics(False,True)\n",
    "    print(\"Min=%.2f, Max=%.2f, Mean=%.2f, Std=%.2f\" % (st[0], st[1], st[2], st[3] ))\n",
    "    #min_banda = banda.GetMinimum()\n",
    "    #max_banda = banda.GetMaximum()\n",
    "    #if not min_banda or not max_banda:\n",
    "    #    (min_banda,max_banda) = banda.ComputeRasterMinMax(True)\n",
    "    #print(\"Min={:.3f}, Max={:.3f}\".format(min_banda,max_banda))\n",
    "    return None\n",
    "\n",
    "elif bandas == 2:\n",
    "    print(\"É um arquivo dual pol\")\n",
    "    for i in range(bandas):\n",
    "        banda = dataset.GetRasterBand(i+1)\n",
    "        print(\"Band {} Type={}\".format((i+1, gdal.GetDataTypeName(banda.DataType)))\n",
    "              \n",
    "elif bandas == 1:\n",
    "    print(\"É um arquivo single pol\")\n",
    "    banda = dataset.GetRasterBand(1)\n",
    "    print(\"Band SLC Type={}\".format(gdal.GetDataTypeName(banda.DataType)))"
   ]
  },
  {
   "cell_type": "code",
   "execution_count": 19,
   "metadata": {
    "scrolled": true
   },
   "outputs": [
    {
     "ename": "SyntaxError",
     "evalue": "invalid syntax (<ipython-input-19-604cb79846ed>, line 15)",
     "output_type": "error",
     "traceback": [
      "\u001b[1;36m  File \u001b[1;32m\"<ipython-input-19-604cb79846ed>\"\u001b[1;36m, line \u001b[1;32m15\u001b[0m\n\u001b[1;33m    elif bandas == 1:\u001b[0m\n\u001b[1;37m       ^\u001b[0m\n\u001b[1;31mSyntaxError\u001b[0m\u001b[1;31m:\u001b[0m invalid syntax\n"
     ]
    }
   ],
   "source": [
    "polarizacoes = [\"array_HH\", \"array_HV\", \"array_VH\", \"array_VV\"]\n",
    "dual_pol = [\"copol\", \"crosspol\"]\n",
    "bandas = dataset.RasterCount\n",
    "if bandas == 4:\n",
    "    print(\"É um arquivo full pol\")\n",
    "    for i in range(bandas):\n",
    "        banda = dataset.GetRasterBand(i+1)\n",
    "        print(\"Band {} Type={}\".format(polarizacoes[i] , gdal.GetDataTypeName(banda.DataType)))\n",
    "        \n",
    "elif bandas == 2:\n",
    "    print(\"É um arquivo dual pol\")\n",
    "    for i in range(bandas):\n",
    "        print(\"Band {} Type={}\".format((dual_pol[i], gdal.GetDataTypeName(banda.DataType)))\n",
    "              \n",
    "elif bandas == 1:\n",
    "    print(\"É um arquivo single pol\")\n",
    "    banda = dataset.GetRasterBand(1)\n",
    "    print(\"Band SLC Type={}\".format(gdal.GetDataTypeName(banda.DataType)))\n",
    "        \n",
    "else:\n",
    "    print(\"A imagem possui outro tipo de polarização ou não é possível fazer sua leitura\")\n",
    "\n",
    "dataset = None"
   ]
  },
  {
   "cell_type": "code",
   "execution_count": 18,
   "metadata": {},
   "outputs": [
    {
     "ename": "NameError",
     "evalue": "name 'array_HH' is not defined",
     "output_type": "error",
     "traceback": [
      "\u001b[1;31m---------------------------------------------------------------------------\u001b[0m",
      "\u001b[1;31mNameError\u001b[0m                                 Traceback (most recent call last)",
      "\u001b[1;32m<ipython-input-18-c52054eb21e7>\u001b[0m in \u001b[0;36m<module>\u001b[1;34m()\u001b[0m\n\u001b[0;32m      1\u001b[0m \u001b[1;31m#Ler a banda HH:\u001b[0m\u001b[1;33m\u001b[0m\u001b[1;33m\u001b[0m\u001b[0m\n\u001b[1;32m----> 2\u001b[1;33m \u001b[0mprint\u001b[0m\u001b[1;33m(\u001b[0m\u001b[1;34m\"Banda HH:\"\u001b[0m\u001b[1;33m,\u001b[0m\u001b[1;34m'\\n'\u001b[0m\u001b[1;33m,\u001b[0m \u001b[0marray_HH\u001b[0m\u001b[1;33m,\u001b[0m\u001b[1;34m'\\n'\u001b[0m\u001b[1;33m)\u001b[0m\u001b[1;33m\u001b[0m\u001b[0m\n\u001b[0m\u001b[0;32m      3\u001b[0m \u001b[1;33m\u001b[0m\u001b[0m\n\u001b[0;32m      4\u001b[0m \u001b[1;31m#Ler a primeira linha da banda HH:\u001b[0m\u001b[1;33m\u001b[0m\u001b[1;33m\u001b[0m\u001b[0m\n\u001b[0;32m      5\u001b[0m \u001b[0mprint\u001b[0m\u001b[1;33m(\u001b[0m\u001b[1;34m\"Primeira linha da banda HH:\"\u001b[0m\u001b[1;33m,\u001b[0m\u001b[1;34m'\\n'\u001b[0m\u001b[1;33m,\u001b[0m \u001b[0marray_HH\u001b[0m\u001b[1;33m[\u001b[0m\u001b[1;36m0\u001b[0m\u001b[1;33m]\u001b[0m\u001b[1;33m,\u001b[0m\u001b[1;34m'\\n'\u001b[0m\u001b[1;33m)\u001b[0m\u001b[1;33m\u001b[0m\u001b[0m\n",
      "\u001b[1;31mNameError\u001b[0m: name 'array_HH' is not defined"
     ]
    }
   ],
   "source": [
    "\n",
    "#Transformar as bandas em um objeto numpy (Uma array)\n",
    "array_HH = band11.ReadAsArray()\n",
    "array_VV = band22.ReadAsArray()\n",
    "dataset = None\n",
    "#Ler a banda HH:\n",
    "print(\"Banda HH:\",'\\n', array_HH,'\\n')\n",
    "\n",
    "#Ler a primeira linha da banda HH:\n",
    "print(\"Primeira linha da banda HH:\",'\\n', array_HH[0],'\\n')\n",
    "\n",
    "#Ler o primeiro pixel da banda HH:\n",
    "array_HH[0][0]\n",
    "\n",
    "#Obter a amplitude e fase do primeiro pixel:\n",
    "print(\"O primeiro pixel da banda HH possui:\", \"\\n\",\n",
    "         'Amplitude:{} e fase: {}'.format(cm.polar(array_HH[0][0])[0], cm.polar(array_HH[0][0])[1]),'\\n')\n",
    "       \n"
   ]
  },
  {
   "cell_type": "code",
   "execution_count": null,
   "metadata": {},
   "outputs": [],
   "source": [
    "#imagem amplitude:\n",
    "img_amplitude = np.absolute(array_HH)\n",
    "img_intensidade = img_amplitude**2\n",
    "\n",
    "\n",
    "\n",
    "#mostrar a imagem:\n",
    "plt.figure( figsize=(3, 10 ))\n",
    "plt.imshow(img_amplitude, cmap='gray')\n",
    "plt.show()\n",
    "plt.imshow(img_intensidade, cmap='gray')\n",
    "plt.show()\n"
   ]
  },
  {
   "cell_type": "code",
   "execution_count": null,
   "metadata": {},
   "outputs": [],
   "source": [
    "# verificar algumas propriedades das bandas, como o histograma\n",
    "plt.plot(band11.GetHistogram())\n",
    "plt.show()"
   ]
  },
  {
   "cell_type": "markdown",
   "metadata": {},
   "source": [
    "display:"
   ]
  },
  {
   "cell_type": "markdown",
   "metadata": {},
   "source": [
    "__Segunda fase__: aplicar um filtro para suavizar o efeito _Speckle_ típico de imagens SAR.\n",
    "\n",
    "__Desafio__: construir uma janela de convolução para aplicar a fórmula do filtro escolhido."
   ]
  },
  {
   "cell_type": "markdown",
   "metadata": {},
   "source": [
    "__Terceira fase__: Calcular o parâmetro escolhido (grau de polarização, intensidade, etc)\n",
    "\n",
    "__Desafio__: utilizar um parâmetro que utiliza dados de mais de uma banda (corregistrar as bandas)"
   ]
  },
  {
   "cell_type": "markdown",
   "metadata": {},
   "source": [
    "__Quarta fase__: Aplicar um limiar para separar os alvos.\n",
    "\n",
    "__Desafio__: utilizar um threshold adaptativo e criar uma máscara."
   ]
  },
  {
   "cell_type": "code",
   "execution_count": null,
   "metadata": {},
   "outputs": [],
   "source": [
    "import struct\n",
    "tuple_of_floats = struct.unpack('f' * band.XSize, scanline)\n",
    "palsarCal = '10^(2*log10(b1) - 8.3)'"
   ]
  },
  {
   "cell_type": "markdown",
   "metadata": {},
   "source": [
    "Verificando se é possível criar um arquivo em algum formato específico.\n",
    "\n",
    "Nesse caso, o GeoTiff:"
   ]
  },
  {
   "cell_type": "code",
   "execution_count": null,
   "metadata": {},
   "outputs": [],
   "source": [
    "fileformat = \"GTiff\"\n",
    "driver = gdal.GetDriverByName(fileformat)\n",
    "metadata = driver.GetMetadata()\n",
    "if metadata.get(gdal.DCAP_CREATE) == \"YES\":\n",
    "    print(\"Driver {} supports Create() method.\".format(fileformat))\n",
    "    \n",
    "if metadata.get(gdal.DCAP_CREATE) == \"YES\":\n",
    "    print(\"Driver {} supports CreateCopy() method.\".format(fileformat))"
   ]
  }
 ],
 "metadata": {
  "celltoolbar": "Raw Cell Format",
  "kernelspec": {
   "display_name": "Python 3",
   "language": "python",
   "name": "python3"
  },
  "language_info": {
   "codemirror_mode": {
    "name": "ipython",
    "version": 3
   },
   "file_extension": ".py",
   "mimetype": "text/x-python",
   "name": "python",
   "nbconvert_exporter": "python",
   "pygments_lexer": "ipython3",
   "version": "3.6.5"
  }
 },
 "nbformat": 4,
 "nbformat_minor": 2
}
